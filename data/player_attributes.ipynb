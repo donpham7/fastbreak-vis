{
 "cells": [
  {
   "cell_type": "code",
   "execution_count": 4,
   "id": "c8782cd4",
   "metadata": {},
   "outputs": [],
   "source": [
    "import pandas as pd\n",
    "import polars as pl\n",
    "import sqlalchemy\n",
    "import seaborn as sb"
   ]
  },
  {
   "cell_type": "code",
   "execution_count": 5,
   "id": "ecbb1965",
   "metadata": {},
   "outputs": [],
   "source": [
    "DATABASE_URL = \"postgresql://u7btk4p5c5m73u:p8d8ff8ddeaabbc4fa6652587c63a9944594a63a232b3eba87c457007b20de8c6@cc6sr55p5nfmlu.cluster-czrs8kj4isg7.us-east-1.rds.amazonaws.com:5432/d6jnenvoupkq12\"\n",
    "engine = sqlalchemy.create_engine(DATABASE_URL)"
   ]
  },
  {
   "cell_type": "code",
   "execution_count": null,
   "id": "cb0d9781",
   "metadata": {},
   "outputs": [],
   "source": [
    "feat_inc = [\n",
    "    \"season\",\n",
    "    \"player\",\n",
    "    \"fta_per_36_min\",\n",
    "    \"trb_per_36_min\",\n",
    "    \"ast_per_36_min\",\n",
    "    \"stl_per_36_min\",\n",
    "    \"blk_per_36_min\",\n",
    "    \"pts_per_36_min\",\n",
    "]\n",
    "\n",
    "# SQL query\n",
    "query = \"SELECT * FROM per_36_minutes\"\n",
    "\n",
    "# Read into pandas DataFrame\n",
    "per36 = pd.read_sql(query, engine)\n",
    "per36 = pl.from_pandas(per36)\n",
    "per36_clean = per36.drop_nans().drop_nulls()\n",
    "data = per36_clean[feat_inc]"
   ]
  },
  {
   "cell_type": "code",
   "execution_count": 13,
   "id": "fffebd42",
   "metadata": {},
   "outputs": [
    {
     "name": "stdout",
     "output_type": "stream",
     "text": [
      "(19741, 8)\n"
     ]
    },
    {
     "data": {
      "text/html": [
       "<div><style>\n",
       ".dataframe > thead > tr,\n",
       ".dataframe > tbody > tr {\n",
       "  text-align: right;\n",
       "  white-space: pre-wrap;\n",
       "}\n",
       "</style>\n",
       "<small>shape: (5, 8)</small><table border=\"1\" class=\"dataframe\"><thead><tr><th>season</th><th>player</th><th>fta_per_36_min</th><th>trb_per_36_min</th><th>ast_per_36_min</th><th>stl_per_36_min</th><th>blk_per_36_min</th><th>pts_per_36_min</th></tr><tr><td>i64</td><td>str</td><td>f64</td><td>f64</td><td>f64</td><td>f64</td><td>f64</td><td>f64</td></tr></thead><tbody><tr><td>2025</td><td>&quot;Precious Achiuwa&quot;</td><td>2.1</td><td>9.8</td><td>1.7</td><td>1.4</td><td>1.3</td><td>11.7</td></tr><tr><td>2025</td><td>&quot;Steven Adams&quot;</td><td>4.2</td><td>14.8</td><td>3.0</td><td>1.0</td><td>1.3</td><td>10.2</td></tr><tr><td>2025</td><td>&quot;Bam Adebayo&quot;</td><td>4.4</td><td>10.1</td><td>4.5</td><td>1.3</td><td>0.7</td><td>19.0</td></tr><tr><td>2025</td><td>&quot;Ochai Agbaji&quot;</td><td>1.0</td><td>5.0</td><td>2.0</td><td>1.2</td><td>0.6</td><td>13.8</td></tr><tr><td>2025</td><td>&quot;Santi Aldama&quot;</td><td>2.0</td><td>9.0</td><td>4.1</td><td>1.1</td><td>0.6</td><td>17.6</td></tr></tbody></table></div>"
      ],
      "text/plain": [
       "shape: (5, 8)\n",
       "┌────────┬────────────┬────────────┬────────────┬────────────┬────────────┬────────────┬───────────┐\n",
       "│ season ┆ player     ┆ fta_per_36 ┆ trb_per_36 ┆ ast_per_36 ┆ stl_per_36 ┆ blk_per_36 ┆ pts_per_3 │\n",
       "│ ---    ┆ ---        ┆ _min       ┆ _min       ┆ _min       ┆ _min       ┆ _min       ┆ 6_min     │\n",
       "│ i64    ┆ str        ┆ ---        ┆ ---        ┆ ---        ┆ ---        ┆ ---        ┆ ---       │\n",
       "│        ┆            ┆ f64        ┆ f64        ┆ f64        ┆ f64        ┆ f64        ┆ f64       │\n",
       "╞════════╪════════════╪════════════╪════════════╪════════════╪════════════╪════════════╪═══════════╡\n",
       "│ 2025   ┆ Precious   ┆ 2.1        ┆ 9.8        ┆ 1.7        ┆ 1.4        ┆ 1.3        ┆ 11.7      │\n",
       "│        ┆ Achiuwa    ┆            ┆            ┆            ┆            ┆            ┆           │\n",
       "│ 2025   ┆ Steven     ┆ 4.2        ┆ 14.8       ┆ 3.0        ┆ 1.0        ┆ 1.3        ┆ 10.2      │\n",
       "│        ┆ Adams      ┆            ┆            ┆            ┆            ┆            ┆           │\n",
       "│ 2025   ┆ Bam        ┆ 4.4        ┆ 10.1       ┆ 4.5        ┆ 1.3        ┆ 0.7        ┆ 19.0      │\n",
       "│        ┆ Adebayo    ┆            ┆            ┆            ┆            ┆            ┆           │\n",
       "│ 2025   ┆ Ochai      ┆ 1.0        ┆ 5.0        ┆ 2.0        ┆ 1.2        ┆ 0.6        ┆ 13.8      │\n",
       "│        ┆ Agbaji     ┆            ┆            ┆            ┆            ┆            ┆           │\n",
       "│ 2025   ┆ Santi      ┆ 2.0        ┆ 9.0        ┆ 4.1        ┆ 1.1        ┆ 0.6        ┆ 17.6      │\n",
       "│        ┆ Aldama     ┆            ┆            ┆            ┆            ┆            ┆           │\n",
       "└────────┴────────────┴────────────┴────────────┴────────────┴────────────┴────────────┴───────────┘"
      ]
     },
     "execution_count": 13,
     "metadata": {},
     "output_type": "execute_result"
    }
   ],
   "source": [
    "print(data.shape)\n",
    "data.head()\n",
    "# print(data)"
   ]
  },
  {
   "cell_type": "code",
   "execution_count": 20,
   "id": "faaa731c",
   "metadata": {},
   "outputs": [
    {
     "data": {
      "text/html": [
       "<div><style>\n",
       ".dataframe > thead > tr,\n",
       ".dataframe > tbody > tr {\n",
       "  text-align: right;\n",
       "  white-space: pre-wrap;\n",
       "}\n",
       "</style>\n",
       "<small>shape: (250, 8)</small><table border=\"1\" class=\"dataframe\"><thead><tr><th>season</th><th>player</th><th>fta_per_36_min</th><th>trb_per_36_min</th><th>ast_per_36_min</th><th>stl_per_36_min</th><th>blk_per_36_min</th><th>pts_per_36_min</th></tr><tr><td>i64</td><td>str</td><td>f64</td><td>f64</td><td>f64</td><td>f64</td><td>f64</td><td>f64</td></tr></thead><tbody><tr><td>2001</td><td>&quot;Mahmoud Abdul-Rauf&quot;</td><td>2.1</td><td>1.9</td><td>5.6</td><td>0.7</td><td>0.1</td><td>19.7</td></tr><tr><td>2001</td><td>&quot;Tariq Abdul-Wahad&quot;</td><td>3.1</td><td>5.1</td><td>1.9</td><td>1.2</td><td>1.1</td><td>9.5</td></tr><tr><td>2001</td><td>&quot;Shareef Abdur-Rahim&quot;</td><td>5.9</td><td>8.2</td><td>2.8</td><td>1.0</td><td>0.9</td><td>18.5</td></tr><tr><td>2001</td><td>&quot;Cory Alexander&quot;</td><td>2.9</td><td>4.0</td><td>5.7</td><td>2.5</td><td>0.0</td><td>8.2</td></tr><tr><td>2001</td><td>&quot;Courtney Alexander&quot;</td><td>3.9</td><td>3.7</td><td>1.6</td><td>1.2</td><td>0.1</td><td>16.1</td></tr><tr><td>&hellip;</td><td>&hellip;</td><td>&hellip;</td><td>&hellip;</td><td>&hellip;</td><td>&hellip;</td><td>&hellip;</td><td>&hellip;</td></tr><tr><td>2021</td><td>&quot;Precious Achiuwa&quot;</td><td>5.4</td><td>10.2</td><td>1.4</td><td>1.0</td><td>1.4</td><td>14.8</td></tr><tr><td>2021</td><td>&quot;Steven Adams&quot;</td><td>3.0</td><td>11.5</td><td>2.5</td><td>1.2</td><td>0.9</td><td>9.8</td></tr><tr><td>2021</td><td>&quot;Bam Adebayo&quot;</td><td>5.9</td><td>9.6</td><td>5.8</td><td>1.3</td><td>1.1</td><td>20.1</td></tr><tr><td>2021</td><td>&quot;LaMarcus Aldridge&quot;</td><td>2.5</td><td>6.3</td><td>2.6</td><td>0.6</td><td>1.5</td><td>18.8</td></tr><tr><td>2021</td><td>&quot;LaMarcus Aldridge&quot;</td><td>2.4</td><td>6.2</td><td>2.4</td><td>0.5</td><td>1.2</td><td>19.1</td></tr></tbody></table></div>"
      ],
      "text/plain": [
       "shape: (250, 8)\n",
       "┌────────┬────────────┬────────────┬────────────┬────────────┬────────────┬────────────┬───────────┐\n",
       "│ season ┆ player     ┆ fta_per_36 ┆ trb_per_36 ┆ ast_per_36 ┆ stl_per_36 ┆ blk_per_36 ┆ pts_per_3 │\n",
       "│ ---    ┆ ---        ┆ _min       ┆ _min       ┆ _min       ┆ _min       ┆ _min       ┆ 6_min     │\n",
       "│ i64    ┆ str        ┆ ---        ┆ ---        ┆ ---        ┆ ---        ┆ ---        ┆ ---       │\n",
       "│        ┆            ┆ f64        ┆ f64        ┆ f64        ┆ f64        ┆ f64        ┆ f64       │\n",
       "╞════════╪════════════╪════════════╪════════════╪════════════╪════════════╪════════════╪═══════════╡\n",
       "│ 2001   ┆ Mahmoud    ┆ 2.1        ┆ 1.9        ┆ 5.6        ┆ 0.7        ┆ 0.1        ┆ 19.7      │\n",
       "│        ┆ Abdul-Rauf ┆            ┆            ┆            ┆            ┆            ┆           │\n",
       "│ 2001   ┆ Tariq Abdu ┆ 3.1        ┆ 5.1        ┆ 1.9        ┆ 1.2        ┆ 1.1        ┆ 9.5       │\n",
       "│        ┆ l-Wahad    ┆            ┆            ┆            ┆            ┆            ┆           │\n",
       "│ 2001   ┆ Shareef    ┆ 5.9        ┆ 8.2        ┆ 2.8        ┆ 1.0        ┆ 0.9        ┆ 18.5      │\n",
       "│        ┆ Abdur-Rahi ┆            ┆            ┆            ┆            ┆            ┆           │\n",
       "│        ┆ m          ┆            ┆            ┆            ┆            ┆            ┆           │\n",
       "│ 2001   ┆ Cory       ┆ 2.9        ┆ 4.0        ┆ 5.7        ┆ 2.5        ┆ 0.0        ┆ 8.2       │\n",
       "│        ┆ Alexander  ┆            ┆            ┆            ┆            ┆            ┆           │\n",
       "│ 2001   ┆ Courtney   ┆ 3.9        ┆ 3.7        ┆ 1.6        ┆ 1.2        ┆ 0.1        ┆ 16.1      │\n",
       "│        ┆ Alexander  ┆            ┆            ┆            ┆            ┆            ┆           │\n",
       "│ …      ┆ …          ┆ …          ┆ …          ┆ …          ┆ …          ┆ …          ┆ …         │\n",
       "│ 2021   ┆ Precious   ┆ 5.4        ┆ 10.2       ┆ 1.4        ┆ 1.0        ┆ 1.4        ┆ 14.8      │\n",
       "│        ┆ Achiuwa    ┆            ┆            ┆            ┆            ┆            ┆           │\n",
       "│ 2021   ┆ Steven     ┆ 3.0        ┆ 11.5       ┆ 2.5        ┆ 1.2        ┆ 0.9        ┆ 9.8       │\n",
       "│        ┆ Adams      ┆            ┆            ┆            ┆            ┆            ┆           │\n",
       "│ 2021   ┆ Bam        ┆ 5.9        ┆ 9.6        ┆ 5.8        ┆ 1.3        ┆ 1.1        ┆ 20.1      │\n",
       "│        ┆ Adebayo    ┆            ┆            ┆            ┆            ┆            ┆           │\n",
       "│ 2021   ┆ LaMarcus   ┆ 2.5        ┆ 6.3        ┆ 2.6        ┆ 0.6        ┆ 1.5        ┆ 18.8      │\n",
       "│        ┆ Aldridge   ┆            ┆            ┆            ┆            ┆            ┆           │\n",
       "│ 2021   ┆ LaMarcus   ┆ 2.4        ┆ 6.2        ┆ 2.4        ┆ 0.5        ┆ 1.2        ┆ 19.1      │\n",
       "│        ┆ Aldridge   ┆            ┆            ┆            ┆            ┆            ┆           │\n",
       "└────────┴────────────┴────────────┴────────────┴────────────┴────────────┴────────────┴───────────┘"
      ]
     },
     "execution_count": 20,
     "metadata": {},
     "output_type": "execute_result"
    }
   ],
   "source": [
    "groupedbySeason = data.group_by('season')\n",
    "groupedbySeason.head()"
   ]
  },
  {
   "cell_type": "code",
   "execution_count": 39,
   "id": "a7e78440",
   "metadata": {},
   "outputs": [
    {
     "name": "stderr",
     "output_type": "stream",
     "text": [
      "C:\\Users\\brock\\AppData\\Local\\Temp\\ipykernel_344\\2091709801.py:6: DeprecationWarning: `pl.count()` is deprecated. Please use `pl.len()` instead.\n",
      "(Deprecated in version 0.20.5)\n",
      "  percentile_expr = (rank_expr / pl.count() * 100).round(0).cast(pl.Int64)\n"
     ]
    },
    {
     "data": {
      "text/html": [
       "<div><style>\n",
       ".dataframe > thead > tr,\n",
       ".dataframe > tbody > tr {\n",
       "  text-align: right;\n",
       "  white-space: pre-wrap;\n",
       "}\n",
       "</style>\n",
       "<small>shape: (5, 14)</small><table border=\"1\" class=\"dataframe\"><thead><tr><th>season</th><th>player</th><th>fta_per_36_min</th><th>trb_per_36_min</th><th>ast_per_36_min</th><th>stl_per_36_min</th><th>blk_per_36_min</th><th>pts_per_36_min</th><th>fta_per_36_min_percentile</th><th>trb_per_36_min_percentile</th><th>ast_per_36_min_percentile</th><th>stl_per_36_min_percentile</th><th>blk_per_36_min_percentile</th><th>pts_per_36_min_percentile</th></tr><tr><td>i64</td><td>str</td><td>f64</td><td>f64</td><td>f64</td><td>f64</td><td>f64</td><td>f64</td><td>i64</td><td>i64</td><td>i64</td><td>i64</td><td>i64</td><td>i64</td></tr></thead><tbody><tr><td>2025</td><td>&quot;Precious Achiuwa&quot;</td><td>2.1</td><td>9.8</td><td>1.7</td><td>1.4</td><td>1.3</td><td>11.7</td><td>35</td><td>86</td><td>13</td><td>66</td><td>86</td><td>23</td></tr><tr><td>2025</td><td>&quot;Steven Adams&quot;</td><td>4.2</td><td>14.8</td><td>3.0</td><td>1.0</td><td>1.3</td><td>10.2</td><td>79</td><td>99</td><td>46</td><td>34</td><td>86</td><td>13</td></tr><tr><td>2025</td><td>&quot;Bam Adebayo&quot;</td><td>4.4</td><td>10.1</td><td>4.5</td><td>1.3</td><td>0.7</td><td>19.0</td><td>81</td><td>88</td><td>71</td><td>60</td><td>62</td><td>78</td></tr><tr><td>2025</td><td>&quot;Ochai Agbaji&quot;</td><td>1.0</td><td>5.0</td><td>2.0</td><td>1.2</td><td>0.6</td><td>13.8</td><td>9</td><td>35</td><td>21</td><td>52</td><td>54</td><td>43</td></tr><tr><td>2025</td><td>&quot;Santi Aldama&quot;</td><td>2.0</td><td>9.0</td><td>4.1</td><td>1.1</td><td>0.6</td><td>17.6</td><td>32</td><td>81</td><td>65</td><td>43</td><td>54</td><td>72</td></tr></tbody></table></div>"
      ],
      "text/plain": [
       "shape: (5, 14)\n",
       "┌────────┬────────────┬────────────┬───────────┬───┬───────────┬───────────┬───────────┬───────────┐\n",
       "│ season ┆ player     ┆ fta_per_36 ┆ trb_per_3 ┆ … ┆ ast_per_3 ┆ stl_per_3 ┆ blk_per_3 ┆ pts_per_3 │\n",
       "│ ---    ┆ ---        ┆ _min       ┆ 6_min     ┆   ┆ 6_min_per ┆ 6_min_per ┆ 6_min_per ┆ 6_min_per │\n",
       "│ i64    ┆ str        ┆ ---        ┆ ---       ┆   ┆ centile   ┆ centile   ┆ centile   ┆ centile   │\n",
       "│        ┆            ┆ f64        ┆ f64       ┆   ┆ ---       ┆ ---       ┆ ---       ┆ ---       │\n",
       "│        ┆            ┆            ┆           ┆   ┆ i64       ┆ i64       ┆ i64       ┆ i64       │\n",
       "╞════════╪════════════╪════════════╪═══════════╪═══╪═══════════╪═══════════╪═══════════╪═══════════╡\n",
       "│ 2025   ┆ Precious   ┆ 2.1        ┆ 9.8       ┆ … ┆ 13        ┆ 66        ┆ 86        ┆ 23        │\n",
       "│        ┆ Achiuwa    ┆            ┆           ┆   ┆           ┆           ┆           ┆           │\n",
       "│ 2025   ┆ Steven     ┆ 4.2        ┆ 14.8      ┆ … ┆ 46        ┆ 34        ┆ 86        ┆ 13        │\n",
       "│        ┆ Adams      ┆            ┆           ┆   ┆           ┆           ┆           ┆           │\n",
       "│ 2025   ┆ Bam        ┆ 4.4        ┆ 10.1      ┆ … ┆ 71        ┆ 60        ┆ 62        ┆ 78        │\n",
       "│        ┆ Adebayo    ┆            ┆           ┆   ┆           ┆           ┆           ┆           │\n",
       "│ 2025   ┆ Ochai      ┆ 1.0        ┆ 5.0       ┆ … ┆ 21        ┆ 52        ┆ 54        ┆ 43        │\n",
       "│        ┆ Agbaji     ┆            ┆           ┆   ┆           ┆           ┆           ┆           │\n",
       "│ 2025   ┆ Santi      ┆ 2.0        ┆ 9.0       ┆ … ┆ 65        ┆ 43        ┆ 54        ┆ 72        │\n",
       "│        ┆ Aldama     ┆            ┆           ┆   ┆           ┆           ┆           ┆           │\n",
       "└────────┴────────────┴────────────┴───────────┴───┴───────────┴───────────┴───────────┴───────────┘"
      ]
     },
     "execution_count": 39,
     "metadata": {},
     "output_type": "execute_result"
    }
   ],
   "source": [
    "def findPlayerPercentiles(group_season):\n",
    "    percentiled_columns = []\n",
    "    for col in group_season.columns:\n",
    "        if col not in [\"season\", \"player\"]:\n",
    "            rank_expr = pl.col(col).rank(method=\"average\")\n",
    "            percentile_expr = (rank_expr / pl.count() * 100).round(0).cast(pl.Int64)\n",
    "            percentiled_columns.append(percentile_expr.alias(col + \"_percentile\"))\n",
    "    \n",
    "    updated_group = group_season.with_columns(percentiled_columns)\n",
    "    return updated_group\n",
    "\n",
    "\n",
    "player_percentile_bySeason = groupedbySeason.map_groups(findPlayerPercentiles)\n",
    "sorted_player_percentile_bySeason = player_percentile_bySeason.sort(\"season\", descending=True)\n",
    "\n",
    "sorted_player_percentile_bySeason.head()"
   ]
  },
  {
   "cell_type": "code",
   "execution_count": 42,
   "id": "5ec9f990",
   "metadata": {},
   "outputs": [],
   "source": [
    "import pandas as pd\n",
    "import polars as pl\n",
    "import sqlalchemy\n",
    "import psycopg2\n",
    "\n",
    "import seaborn as sb\n",
    "\n",
    "feat_exc = [\n",
    "    \"season\",\n",
    "    \"lg\",\n",
    "    \"player\",\n",
    "    \"player_id\",\n",
    "    \"age\",\n",
    "    \"team\",\n",
    "    \"pos\",\n",
    "    \"g\",\n",
    "    \"gs\",\n",
    "    \"mp\",\n",
    "    \"fg_per_36_min\",\n",
    "    \"fga_per_36_min\",\n",
    "    \"fg_percent_per_36_min\",\n",
    "    \"x3p_per_36_min\",\n",
    "    \"x3pa_per_36_min\",\n",
    "    \"x3p_percent\",\n",
    "    \"x2p_per_36_min\",\n",
    "    \"x2pa_per_36_min\",\n",
    "    \"x2p_percent\",\n",
    "    \"e_fg_percent\",\n",
    "    \"ft_per_36_min\",\n",
    "    \"ft_percent\",\n",
    "    \"orb_per_36_min\",\n",
    "    \"drb_per_36_min\",\n",
    "    \"pf_per_36_min\",\n",
    "    \"tov_per_36_min\",\n",
    "\n",
    "]\n",
    "\n",
    "feat_inc = [\n",
    "    \"season\",\n",
    "    \"player\",\n",
    "    \"fta_per_36_min\",\n",
    "    \"trb_per_36_min\",\n",
    "    \"ast_per_36_min\",\n",
    "    \"stl_per_36_min\",\n",
    "    \"blk_per_36_min\",\n",
    "    \"pts_per_36_min\",\n",
    "]\n",
    "\n",
    "\n",
    "def player_attributes(player, season, engine):\n",
    "    # SQL query\n",
    "    query = \"SELECT * FROM per_36_minutes\"\n",
    "\n",
    "    # Read into pandas DataFrame\n",
    "    per36 = pd.read_sql(query, engine)\n",
    "    per36 = pl.from_pandas(per36)\n",
    "    per36_clean = per36.drop_nans().drop_nulls()\n",
    "    data = per36_clean[feat_inc]\n",
    "    szn = data.filter(pl.col(\"season\") == season)\n",
    "\n",
    "\n",
    "    def findPlayerPercentiles(group_season):\n",
    "        percentiled_columns = []\n",
    "        for col in group_season.columns:\n",
    "            if col not in [\"season\", \"player\"]:\n",
    "                rank_expr = pl.col(col).rank(method=\"average\")\n",
    "                percentile_expr = (rank_expr / pl.count() * 100).round(0).cast(pl.Int64)\n",
    "                percentiled_columns.append(percentile_expr.alias(col + \"_percentile\"))\n",
    "        \n",
    "        updated_group = group_season.with_columns(percentiled_columns)\n",
    "        return updated_group\n",
    "\n",
    "\n",
    "    players_percentile = findPlayerPercentiles(szn)\n",
    "    player_percentile = players_percentile.filter(pl.col(\"player\") == player)\n",
    "    return player_percentile\n",
    "\n",
    "\n",
    "\n"
   ]
  },
  {
   "cell_type": "code",
   "execution_count": 43,
   "id": "4b4cbb81",
   "metadata": {},
   "outputs": [
    {
     "name": "stdout",
     "output_type": "stream",
     "text": [
      "shape: (1, 14)\n",
      "┌────────┬────────────┬────────────┬───────────┬───┬───────────┬───────────┬───────────┬───────────┐\n",
      "│ season ┆ player     ┆ fta_per_36 ┆ trb_per_3 ┆ … ┆ ast_per_3 ┆ stl_per_3 ┆ blk_per_3 ┆ pts_per_3 │\n",
      "│ ---    ┆ ---        ┆ _min       ┆ 6_min     ┆   ┆ 6_min_per ┆ 6_min_per ┆ 6_min_per ┆ 6_min_per │\n",
      "│ i64    ┆ str        ┆ ---        ┆ ---       ┆   ┆ centile   ┆ centile   ┆ centile   ┆ centile   │\n",
      "│        ┆            ┆ f64        ┆ f64       ┆   ┆ ---       ┆ ---       ┆ ---       ┆ ---       │\n",
      "│        ┆            ┆            ┆           ┆   ┆ i64       ┆ i64       ┆ i64       ┆ i64       │\n",
      "╞════════╪════════════╪════════════╪═══════════╪═══╪═══════════╪═══════════╪═══════════╪═══════════╡\n",
      "│ 2025   ┆ Anthony    ┆ 6.2        ┆ 5.6       ┆ … ┆ 71        ┆ 43        ┆ 54        ┆ 98        │\n",
      "│        ┆ Edwards    ┆            ┆           ┆   ┆           ┆           ┆           ┆           │\n",
      "└────────┴────────────┴────────────┴───────────┴───┴───────────┴───────────┴───────────┴───────────┘\n"
     ]
    },
    {
     "name": "stderr",
     "output_type": "stream",
     "text": [
      "C:\\Users\\brock\\AppData\\Local\\Temp\\ipykernel_344\\41257671.py:67: DeprecationWarning: `pl.count()` is deprecated. Please use `pl.len()` instead.\n",
      "(Deprecated in version 0.20.5)\n",
      "  percentile_expr = (rank_expr / pl.count() * 100).round(0).cast(pl.Int64)\n"
     ]
    }
   ],
   "source": [
    "DATABASE_URL = \"postgresql://u7btk4p5c5m73u:p8d8ff8ddeaabbc4fa6652587c63a9944594a63a232b3eba87c457007b20de8c6@cc6sr55p5nfmlu.cluster-czrs8kj4isg7.us-east-1.rds.amazonaws.com:5432/d6jnenvoupkq12\"\n",
    "\n",
    "engine = sqlalchemy.create_engine(DATABASE_URL)\n",
    "print(player_attributes(\"Anthony Edwards\", 2025, engine))"
   ]
  }
 ],
 "metadata": {
  "kernelspec": {
   "display_name": "fastbreak_env",
   "language": "python",
   "name": "python3"
  },
  "language_info": {
   "codemirror_mode": {
    "name": "ipython",
    "version": 3
   },
   "file_extension": ".py",
   "mimetype": "text/x-python",
   "name": "python",
   "nbconvert_exporter": "python",
   "pygments_lexer": "ipython3",
   "version": "3.10.18"
  }
 },
 "nbformat": 4,
 "nbformat_minor": 5
}
